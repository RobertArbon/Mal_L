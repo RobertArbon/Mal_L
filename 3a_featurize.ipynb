{
 "cells": [
  {
   "cell_type": "markdown",
   "id": "resident-louisiana",
   "metadata": {},
   "source": [
    "# Introduction\n",
    "\n",
    "This creates numpy arrays of features from the trajectories. "
   ]
  },
  {
   "cell_type": "code",
   "execution_count": 48,
   "id": "convinced-orange",
   "metadata": {},
   "outputs": [],
   "source": [
    "import mdtraj as md\n",
    "import numpy as np\n",
    "from glob import glob\n",
    "from os.path import join, basename"
   ]
  },
  {
   "cell_type": "markdown",
   "id": "damaged-issue",
   "metadata": {},
   "source": [
    "The features will be: \n",
    "\n",
    "1. Alpha angles - the dihedral between successive CA atoms in the backbone. \n",
    "2. Phi, Psi, angles - the usual backbone dihedrals. \n",
    "3. Contact distances - the CA contact distance. \n",
    "\n",
    "All dihedrals will be projected to the sin/cos space"
   ]
  },
  {
   "cell_type": "code",
   "execution_count": 6,
   "id": "smart-savings",
   "metadata": {},
   "outputs": [],
   "source": [
    "top = md.load('reactant/top-374-459.pdb')\n",
    "ca_ix = top.top.select('name CA')"
   ]
  },
  {
   "cell_type": "code",
   "execution_count": 22,
   "id": "european-territory",
   "metadata": {},
   "outputs": [],
   "source": [
    "alpha_ix = []\n",
    "for i in range(ca_ix.shape[0]-3):\n",
    "    alpha_ix.append(ca_ix[i:i+4].reshape(1, -1))\n",
    "alpha_ix = np.concatenate(alpha_ix, axis=0)"
   ]
  },
  {
   "cell_type": "code",
   "execution_count": 26,
   "id": "spectacular-layer",
   "metadata": {},
   "outputs": [],
   "source": [
    "phi_ix, _ = md.compute_phi(top)\n",
    "psi_ix, _ = md.compute_psi(top)\n",
    "\n",
    "phi_psi_ix = np.concatenate([phi_ix, psi_ix], axis=0)"
   ]
  },
  {
   "cell_type": "code",
   "execution_count": 40,
   "id": "representative-civilian",
   "metadata": {},
   "outputs": [],
   "source": [
    "def dihedrals(traj, ix):\n",
    "    f_traj = md.compute_dihedrals(traj, ix)\n",
    "    f_traj = np.concatenate([np.sin(f_traj), np.cos(f_traj)], axis=1)\n",
    "    return f_traj\n"
   ]
  },
  {
   "cell_type": "code",
   "execution_count": 61,
   "id": "forced-scottish",
   "metadata": {},
   "outputs": [
    {
     "name": "stdout",
     "output_type": "stream",
     "text": [
      "(4500, 3486)\n",
      "(4500, 3486)\n",
      "(2400, 3486)\n",
      "(2100, 3486)\n",
      "(2400, 3486)\n",
      "(2100, 3486)\n",
      "(2400, 3486)\n",
      "(2100, 3486)\n",
      "(2400, 3486)\n",
      "(2100, 3486)\n",
      "(2400, 3486)\n",
      "(2100, 3486)\n",
      "(1000, 3486)\n",
      "(2900, 3486)\n",
      "(500, 3486)\n",
      "(1000, 3486)\n",
      "(2900, 3486)\n",
      "(500, 3486)\n",
      "(4500, 3486)\n"
     ]
    }
   ],
   "source": [
    "sim_name = 'reactant'\n",
    "fnames = glob(f'{sim_name}/aligned/*.xtc')\n",
    "fnames.sort()\n",
    "\n",
    "directory_name = f'{sim_name}/features/directory.txt'\n",
    "with open(directory_name, 'w') as f:\n",
    "    f.write('f_traj : aligned_traj\\n')\n",
    "    \n",
    "for i, fname in enumerate(fnames):\n",
    "    bn = basename(fname).split('.')[0]\n",
    "    traj = md.load(fname, top=top)\n",
    "    \n",
    "    phipsi = dihedrals(traj, phi_psi_ix)\n",
    "    alpha = dihedrals(traj, alpha_ix)\n",
    "    contacts, _ = md.compute_contacts(traj, contacts='all', scheme='ca')\n",
    "    print(contacts.shape)\n",
    "    np.save(arr=phipsi, file=f'{sim_name}/features/phi_psi/{i:02d}.npy')\n",
    "    np.save(arr=alpha, file=f'{sim_name}/features/alpha/{i:02d}.npy')\n",
    "    np.save(arr=contacts, file=f'{sim_name}/features/contact/{i:02d}.npy')\n",
    "    \n",
    "    with open(directory_name, 'a') as f:\n",
    "        f.write(f'{i:02d}     : {bn}\\n')\n",
    "    \n",
    "        \n",
    "    "
   ]
  },
  {
   "cell_type": "code",
   "execution_count": 64,
   "id": "christian-passage",
   "metadata": {},
   "outputs": [
    {
     "name": "stdout",
     "output_type": "stream",
     "text": [
      "(4500, 3486)\n",
      "(4500, 3486)\n",
      "(2400, 3486)\n",
      "(2100, 3486)\n",
      "(2400, 3486)\n",
      "(2100, 3486)\n",
      "(2400, 3486)\n",
      "(2100, 3486)\n",
      "(2400, 3486)\n",
      "(2100, 3486)\n",
      "(2400, 3486)\n",
      "(2100, 3486)\n",
      "(1000, 3486)\n",
      "(2900, 3486)\n",
      "(500, 3486)\n",
      "(1000, 3486)\n",
      "(2900, 3486)\n",
      "(500, 3486)\n",
      "(4500, 3486)\n"
     ]
    }
   ],
   "source": [
    "sim_name = 'transition_state'\n",
    "fnames = glob(f'{sim_name}/aligned/*.xtc')\n",
    "fnames.sort()\n",
    "\n",
    "directory_name = f'{sim_name}/features/directory.txt'\n",
    "with open(directory_name, 'w') as f:\n",
    "    f.write('f_traj : aligned_traj\\n')\n",
    "    \n",
    "for i, fname in enumerate(fnames):\n",
    "    bn = basename(fname).split('.')[0]\n",
    "    traj = md.load(fname, top=top)\n",
    "    \n",
    "    phipsi = dihedrals(traj, phi_psi_ix)\n",
    "    alpha = dihedrals(traj, alpha_ix)\n",
    "    contacts, _ = md.compute_contacts(traj, contacts='all', scheme='ca')\n",
    "    print(contacts.shape)\n",
    "    np.save(arr=phipsi, file=f'{sim_name}/features/phi_psi/{i:02d}.npy')\n",
    "    np.save(arr=alpha, file=f'{sim_name}/features/alpha/{i:02d}.npy')\n",
    "    np.save(arr=contacts, file=f'{sim_name}/features/contact/{i:02d}.npy')\n",
    "    \n",
    "    with open(directory_name, 'a') as f:\n",
    "        f.write(f'{i:02d}     : {bn}\\n')"
   ]
  }
 ],
 "metadata": {
  "kernelspec": {
   "display_name": "Python 3",
   "language": "python",
   "name": "python3"
  },
  "language_info": {
   "codemirror_mode": {
    "name": "ipython",
    "version": 3
   },
   "file_extension": ".py",
   "mimetype": "text/x-python",
   "name": "python",
   "nbconvert_exporter": "python",
   "pygments_lexer": "ipython3",
   "version": "3.8.0"
  }
 },
 "nbformat": 4,
 "nbformat_minor": 5
}
