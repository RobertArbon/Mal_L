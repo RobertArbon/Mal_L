{
 "cells": [
  {
   "cell_type": "markdown",
   "id": "floral-boundary",
   "metadata": {},
   "source": [
    "# Introduction\n",
    "\n",
    "Makes pymol scripts to run"
   ]
  },
  {
   "cell_type": "code",
   "execution_count": 57,
   "id": "delayed-mother",
   "metadata": {},
   "outputs": [],
   "source": [
    "from glob import glob\n",
    "from os.path import join, basename\n"
   ]
  },
  {
   "cell_type": "code",
   "execution_count": 58,
   "id": "comfortable-estate",
   "metadata": {},
   "outputs": [],
   "source": [
    "frame_stride = 10\n",
    "smooth_window = 2\n",
    "smooth_passes = 30\n",
    "movie_quality = 75 # 0 - 100"
   ]
  },
  {
   "cell_type": "code",
   "execution_count": 65,
   "id": "corporate-physiology",
   "metadata": {},
   "outputs": [],
   "source": [
    "root_dir = '/Users/robertarbon/Documents/Research/Mal_L_MMRT/Analysis'\n",
    "\n",
    "\n",
    "\n",
    "for sim_name in ['reactant', 'transition_state']:\n",
    "    fnames = glob(f'{sim_name}/aligned/*.xtc')\n",
    "    top = 'reactant/top-374-459.pdb'\n",
    "    out_dir =  join(root_dir, sim_name, 'animations')\n",
    "\n",
    "    for fn in fnames:\n",
    "        bn = basename(fn).split('.')[0]\n",
    "\n",
    "        msg = f\"reinitialize\\n\"+\\\n",
    "              f\"load {join(root_dir, top)}, traj\\n\"+\\\n",
    "              f\"load_traj {join(root_dir, fn)}, traj, state=1, interval={frame_stride}\\n\"+\\\n",
    "              f\"smooth traj, {smooth_passes}, {smooth_window}\\n\"+\\\n",
    "              f\"movie.produce {join(out_dir, bn)}.mpg, quality={movie_quality}\\n\\n\"\n",
    "\n",
    "        with open(f'pymol_scripts/{sim_name}_{bn}.pml', 'w') as f:\n",
    "            f.write(msg)"
   ]
  },
  {
   "cell_type": "code",
   "execution_count": null,
   "id": "fifth-sheriff",
   "metadata": {},
   "outputs": [],
   "source": []
  },
  {
   "cell_type": "code",
   "execution_count": null,
   "id": "about-galaxy",
   "metadata": {},
   "outputs": [],
   "source": []
  }
 ],
 "metadata": {
  "kernelspec": {
   "display_name": "Python 3",
   "language": "python",
   "name": "python3"
  },
  "language_info": {
   "codemirror_mode": {
    "name": "ipython",
    "version": 3
   },
   "file_extension": ".py",
   "mimetype": "text/x-python",
   "name": "python",
   "nbconvert_exporter": "python",
   "pygments_lexer": "ipython3",
   "version": "3.8.0"
  }
 },
 "nbformat": 4,
 "nbformat_minor": 5
}
