{
 "cells": [
  {
   "cell_type": "code",
   "execution_count": 1,
   "id": "present-connecticut",
   "metadata": {},
   "outputs": [],
   "source": [
    "from functions import sample_hyperparameters, get_features, discretize_trajectories, get_feature_traj_paths, bootstrap_ts2\n",
    "import pickle\n",
    "import numpy as np\n",
    "import pyemma as pm\n",
    "import matplotlib.pyplot as plt\n",
    "import seaborn as sns\n",
    "from os.path import join\n",
    "from pathlib import Path"
   ]
  },
  {
   "cell_type": "code",
   "execution_count": 2,
   "id": "straight-honolulu",
   "metadata": {},
   "outputs": [],
   "source": [
    "search_space = pickle.load(open('common/hp_search_space.p', 'rb'))\n",
    "lags = (np.arange(10, 50)*10).astype(int)\n",
    "features = [\"contact_filtered\", 'alpha', 'phi_psi']\n",
    "sim_names = ['transition_state', 'reactant']"
   ]
  },
  {
   "cell_type": "markdown",
   "id": "magnetic-generator",
   "metadata": {},
   "source": [
    "# Introduction\n",
    "\n",
    "In this notebook we'll determine an appropriate lag time.\n",
    "To do this, we'll bootstrap the slowest timescale and find where it converges. \n",
    "We'll do this for every transition state/reaction/feature combination with 5 random draws of the other hypeparameters. \n",
    "Convergence will be judged by the first change in T2 less than 100 ns over 1ns of lag time. The lag time will be the smallest lag time from among the sampled hyperparameters. \n",
    "\n",
    "First, we find an appropriate number of bootstrap samples. \n",
    "\n",
    "Then we do this for all other combinations of hyperparameters and simulation systems (reactant/transition state). \n",
    "\n",
    "In another workbook, we'll analyse the results. "
   ]
  },
  {
   "cell_type": "code",
   "execution_count": 3,
   "id": "least-wireless",
   "metadata": {},
   "outputs": [],
   "source": [
    "np.random.seed(93475)\n",
    "\n",
    "traj_paths = get_feature_traj_paths(sim_names[-1], features[-1])\n",
    "hps = sample_hyperparameters(search_space)\n",
    "bs_its = bootstrap_ts2(n=100, hps=hps, traj_paths=traj_paths, lags=lags)"
   ]
  },
  {
   "cell_type": "code",
   "execution_count": 4,
   "id": "spatial-supplier",
   "metadata": {},
   "outputs": [
    {
     "data": {
      "image/png": "[encoded data removed]",
      "text/plain": [
       "<Figure size 432x288 with 1 Axes>"
      ]
     },
     "metadata": {
      "needs_background": "light"
     },
     "output_type": "display_data"
    }
   ],
   "source": [
    "mean_bs_its = np.mean(bs_its, axis=0)\n",
    "\n",
    "cum_mean_its = np.cumsum(bs_its, axis=0)/(np.arange(bs_its.shape[0])[:, None, None]+1)\n",
    "\n",
    "diffs = np.sqrt(np.mean((np.log10(cum_mean_its[:-1, :, 0]) - np.log10(cum_mean_its[1:, :, 0]))**2, axis=1))\n",
    "\n",
    "with sns.plotting_context('talk', font_scale=1):\n",
    "    plt.plot(diffs)\n",
    "#     plt.yscale('log')\n",
    "    plt.xlabel('bootstrap samples, i')\n",
    "    plt.ylabel('RMSD $\\log(t2_{i}) - \\log(t2_{i+1})$')"
   ]
  },
  {
   "cell_type": "markdown",
   "id": "addressed-render",
   "metadata": {},
   "source": [
    "40 bootstrap samples seems fine. "
   ]
  },
  {
   "cell_type": "code",
   "execution_count": 5,
   "id": "alive-accent",
   "metadata": {},
   "outputs": [
    {
     "name": "stdout",
     "output_type": "stream",
     "text": [
      "transition_state_contact_filtered_l16_d4_n187.p\n",
      "transition_state_contact_filtered_l189_d5_n32.p\n",
      "transition_state_contact_filtered_l17_d4_n118.p\n",
      "transition_state_contact_filtered_l103_d6_n40.p\n",
      "transition_state_contact_filtered_l75_d7_n67.p\n",
      "transition_state_alpha_l65_d5_n151.p\n",
      "transition_state_alpha_l114_d3_n47.p\n",
      "transition_state_alpha_l210_d3_n81.p\n",
      "transition_state_alpha_l200_d3_n57.p\n",
      "transition_state_alpha_l197_d7_n39.p\n",
      "transition_state_phi_psi_l76_d6_n32.p\n",
      "transition_state_phi_psi_l239_d2_n75.p\n",
      "transition_state_phi_psi_l168_d2_n144.p\n",
      "transition_state_phi_psi_l124_d10_n201.p\n",
      "transition_state_phi_psi_l80_d5_n34.p\n",
      "reactant_contact_filtered_l63_d9_n129.p\n",
      "reactant_contact_filtered_l116_d5_n89.p\n",
      "reactant_contact_filtered_l98_d6_n83.p\n",
      "reactant_contact_filtered_l223_d5_n151.p\n",
      "reactant_contact_filtered_l106_d3_n149.p\n",
      "reactant_alpha_l191_d5_n174.p\n",
      "reactant_alpha_l96_d3_n66.p\n",
      "reactant_alpha_l155_d4_n116.p\n",
      "reactant_alpha_l215_d5_n60.p\n",
      "reactant_alpha_l32_d2_n53.p\n",
      "reactant_phi_psi_l10_d1_n182.p\n",
      "reactant_phi_psi_l144_d10_n67.p\n",
      "ERROR with  reactant_phi_psi_l144_d10_n67.p\n",
      "reactant_phi_psi_l221_d3_n187.p\n",
      "reactant_phi_psi_l55_d2_n85.p\n",
      "reactant_phi_psi_l12_d10_n181.p\n"
     ]
    }
   ],
   "source": [
    "np.random.seed(93475)\n",
    "\n",
    "hps_per_feature = 5\n",
    "n_bootstraps = 40\n",
    "\n",
    "for sim in sim_names:\n",
    "    for feature in features:\n",
    "        \n",
    "        traj_paths = get_feature_traj_paths(sim, feature)\n",
    "#         trajs = get_features(traj_paths)\n",
    "\n",
    "        for i in range(hps_per_feature):\n",
    "            hps = sample_hyperparameters(search_space)\n",
    "            fname = f\"{sim}_{feature}_l{hps['vamp']['lag']}_d{hps['vamp']['dim']}_n{hps['cluster_kmeans']['k']}.p\"\n",
    "            fpath = join('lag_determination', fname)\n",
    "            if not Path(fpath).exists():\n",
    "                print(fname)\n",
    "\n",
    "                try:\n",
    "                    bs_its = bootstrap_ts2(n=n_bootstraps, hps=hps, traj_paths=traj_paths, lags=lags)\n",
    "                    pickle.dump(file=open(fpath, 'wb'), obj=[hps, bs_its])\n",
    "                except: \n",
    "                    print('ERROR with ', fname)"
   ]
  },
  {
   "cell_type": "code",
   "execution_count": 9,
   "id": "seven-impression",
   "metadata": {},
   "outputs": [],
   "source": [
    "# hps_per_feature = 5\n",
    "n_bootstraps = 40\n",
    "sim = 'reactant'\n",
    "feature = 'phi_psi'\n",
    "hps = {'vamp': {'dim': 10, 'lag': 144}, 'cluster_kmeans': {'k': 67, 'max_iter': 1000}}\n",
    "\n",
    "fname = f\"{sim}_{feature}_l{hps['vamp']['lag']}_d{hps['vamp']['dim']}_n{hps['cluster_kmeans']['k']}.p\"\n",
    "fpath = join('lag_determination', fname)\n",
    "traj_paths = get_feature_traj_paths(sim, feature)\n",
    "\n",
    "bs_its = bootstrap_ts2(n=n_bootstraps, hps=hps, traj_paths=traj_paths, lags=lags)\n",
    "\n",
    "\n",
    "pickle.dump(file=open(fpath, 'wb'), obj=[hps, bs_its])\n"
   ]
  },
  {
   "cell_type": "code",
   "execution_count": null,
   "id": "italic-publicity",
   "metadata": {},
   "outputs": [],
   "source": []
  }
 ],
 "metadata": {
  "kernelspec": {
   "display_name": "Python 3",
   "language": "python",
   "name": "python3"
  },
  "language_info": {
   "codemirror_mode": {
    "name": "ipython",
    "version": 3
   },
   "file_extension": ".py",
   "mimetype": "text/x-python",
   "name": "python",
   "nbconvert_exporter": "python",
   "pygments_lexer": "ipython3",
   "version": "3.8.0"
  }
 },
 "nbformat": 4,
 "nbformat_minor": 5
}
