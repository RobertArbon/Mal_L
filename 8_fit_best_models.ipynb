{
 "cells": [
  {
   "cell_type": "code",
   "execution_count": 11,
   "id": "remarkable-modification",
   "metadata": {},
   "outputs": [],
   "source": [
    "import pyemma as pm\n",
    "from functions import discretize_trajectories, get_features, get_feature_traj_paths, bootstrap_ts2\n",
    "import matplotlib.pyplot as plt\n",
    "import seaborn as sns\n",
    "import numpy as np\n",
    "import pandas as pd\n",
    "import mdtraj as md\n",
    "import warnings\n",
    "import pickle"
   ]
  },
  {
   "cell_type": "code",
   "execution_count": 2,
   "id": "frozen-referral",
   "metadata": {},
   "outputs": [],
   "source": [
    "def f(df, ix):\n",
    "    dim, lag, k = df.loc[ix, ['dim', 'lag', 'k']].values\n",
    "    return {'vamp': {'dim': dim, 'lag': lag }, 'cluster_kmeans': {'k': k, 'max_iter': 1000}}\n",
    "\n",
    "\n",
    "cols = sns.color_palette('colorblind')\n",
    "\n",
    "def get_timescales(its):\n",
    "    mean = np.mean(its, axis=0)\n",
    "    lb = np.quantile(its, q=0.025, axis=0)\n",
    "    ub = np.quantile(its, q=0.975, axis=0)\n",
    "    return (mean, lb, ub)\n",
    "\n",
    "def get_ratios(its):\n",
    "    ratios = its[:, :, :-1]/its[:, :, 1:]\n",
    "    mean = np.mean(ratios, axis=0)\n",
    "    lb = np.quantile(ratios, q=0.025, axis=0)\n",
    "    ub = np.quantile(ratios, q=0.975, axis=0)\n",
    "    return (mean, lb, ub)\n",
    "\n",
    "\n",
    "def plot_timescales(ax, its, lags):\n",
    "    mean_its, lb_its, ub_its = get_timescales(its)\n",
    "    for k in range(mean_its.shape[-1]):\n",
    "        ax.plot(lags, mean_its[:, k], label=r'$t_{{{}}}$'.format(k+2))\n",
    "        ax.fill_between(lags, lb_its[:, k], ub_its[:, k], alpha=0.2)\n",
    "\n",
    "        \n",
    "def plot_ratios(ax, its, lag_ix=-1):\n",
    "    mean_its, lb_its, ub_its = get_ratios(its)\n",
    "    for k in range(mean_its.shape[-1]):\n",
    "        yerr = [[mean_its[lag_ix, k]-lb_its[lag_ix, k]], [ub_its[lag_ix, k]-mean_its[lag_ix, k]]]\n",
    "        ax.errorbar(int(k+2), mean_its[lag_ix, k], yerr=yerr, label=r'$t_{{{}}}/t_{{{}}}$'.format(k+2, k+3), marker='o', color=cols[0])\n",
    "        \n",
    "        \n",
    "def get_file_paths(sim_name, feature):\n",
    "    glob_path = f'lag_determination/{sim_name}_{feature}_*.p'\n",
    "    file_paths = glob(glob_path)\n",
    "    return file_paths\n",
    "\n",
    "def hp_label(hps):\n",
    "    msg = rf\"$\\tau$: {hps['vamp']['lag']/10} ns, $m$: {hps['vamp']['dim']}, $n$: {hps['cluster_kmeans']['k']}\"\n",
    "    return msg"
   ]
  },
  {
   "cell_type": "markdown",
   "id": "funded-malawi",
   "metadata": {},
   "source": [
    "# Transition state"
   ]
  },
  {
   "cell_type": "code",
   "execution_count": 3,
   "id": "spread-prisoner",
   "metadata": {},
   "outputs": [
    {
     "data": {
      "text/html": [
       "<div>\n",
       "<style scoped>\n",
       "    .dataframe tbody tr th:only-of-type {\n",
       "        vertical-align: middle;\n",
       "    }\n",
       "\n",
       "    .dataframe tbody tr th {\n",
       "        vertical-align: top;\n",
       "    }\n",
       "\n",
       "    .dataframe thead th {\n",
       "        text-align: right;\n",
       "    }\n",
       "</style>\n",
       "<table border=\"1\" class=\"dataframe\">\n",
       "  <thead>\n",
       "    <tr style=\"text-align: right;\">\n",
       "      <th></th>\n",
       "      <th>dim</th>\n",
       "      <th>lag</th>\n",
       "      <th>k</th>\n",
       "      <th>feature</th>\n",
       "      <th>y</th>\n",
       "      <th>mu</th>\n",
       "    </tr>\n",
       "  </thead>\n",
       "  <tbody>\n",
       "    <tr>\n",
       "      <th>0</th>\n",
       "      <td>9</td>\n",
       "      <td>63</td>\n",
       "      <td>129</td>\n",
       "      <td>contact_filtered</td>\n",
       "      <td>2.801047</td>\n",
       "      <td>2.805985</td>\n",
       "    </tr>\n",
       "    <tr>\n",
       "      <th>1</th>\n",
       "      <td>10</td>\n",
       "      <td>144</td>\n",
       "      <td>67</td>\n",
       "      <td>contact_filtered</td>\n",
       "      <td>2.801575</td>\n",
       "      <td>2.804851</td>\n",
       "    </tr>\n",
       "    <tr>\n",
       "      <th>2</th>\n",
       "      <td>10</td>\n",
       "      <td>12</td>\n",
       "      <td>181</td>\n",
       "      <td>contact_filtered</td>\n",
       "      <td>2.805909</td>\n",
       "      <td>2.798779</td>\n",
       "    </tr>\n",
       "    <tr>\n",
       "      <th>3</th>\n",
       "      <td>10</td>\n",
       "      <td>104</td>\n",
       "      <td>161</td>\n",
       "      <td>phi_psi</td>\n",
       "      <td>2.773073</td>\n",
       "      <td>2.782259</td>\n",
       "    </tr>\n",
       "    <tr>\n",
       "      <th>4</th>\n",
       "      <td>10</td>\n",
       "      <td>238</td>\n",
       "      <td>188</td>\n",
       "      <td>phi_psi</td>\n",
       "      <td>2.791566</td>\n",
       "      <td>2.778040</td>\n",
       "    </tr>\n",
       "  </tbody>\n",
       "</table>\n",
       "</div>"
      ],
      "text/plain": [
       "   dim  lag    k           feature         y        mu\n",
       "0    9   63  129  contact_filtered  2.801047  2.805985\n",
       "1   10  144   67  contact_filtered  2.801575  2.804851\n",
       "2   10   12  181  contact_filtered  2.805909  2.798779\n",
       "3   10  104  161           phi_psi  2.773073  2.782259\n",
       "4   10  238  188           phi_psi  2.791566  2.778040"
      ]
     },
     "execution_count": 3,
     "metadata": {},
     "output_type": "execute_result"
    }
   ],
   "source": [
    "sim = 'transition_state'\n",
    "lags = (np.arange(1, 50)*10).astype(int)\n",
    "n_bootstrap = 100\n",
    "\n",
    "ts = pd.read_csv(open('common/best_transition_state_hps.csv'))\n",
    "ts.head()"
   ]
  },
  {
   "cell_type": "markdown",
   "id": "liberal-basis",
   "metadata": {},
   "source": [
    "## Contacts "
   ]
  },
  {
   "cell_type": "code",
   "execution_count": 4,
   "id": "conditional-salem",
   "metadata": {},
   "outputs": [
    {
     "data": {
      "image/png": "[encoded data removed]",
      "text/plain": [
       "<Figure size 432x288 with 1 Axes>"
      ]
     },
     "metadata": {
      "needs_background": "light"
     },
     "output_type": "display_data"
    }
   ],
   "source": [
    "hps = f(ts, 0)\n",
    "feature = 'contact_filtered'\n",
    "\n",
    "traj_paths = get_feature_traj_paths(sim_name=sim, feature=feature)\n",
    "bs_its = bootstrap_ts2(n=n_bootstrap, hps=hps, traj_paths=traj_paths, lags=lags)\n",
    "fig, ax = plt.subplots()\n",
    "plot_timescales(ax=ax, its=bs_its, lags=lags/10)\n",
    "plt.yscale('log')"
   ]
  },
  {
   "cell_type": "markdown",
   "id": "dying-microphone",
   "metadata": {},
   "source": [
    "The contact feature doesn't give a very Markovian basis. "
   ]
  },
  {
   "cell_type": "markdown",
   "id": "official-imperial",
   "metadata": {},
   "source": [
    "## Phi/Psi"
   ]
  },
  {
   "cell_type": "code",
   "execution_count": 5,
   "id": "rocky-webcam",
   "metadata": {},
   "outputs": [],
   "source": [
    "sim = 'transition_state'\n",
    "feature = 'phi_psi'\n",
    "hps = f(ts, 3)\n",
    "traj_paths = get_feature_traj_paths(sim_name=sim, feature=feature)\n",
    "bs_its = bootstrap_ts2(n=n_bootstrap, hps=hps, traj_paths=traj_paths, lags=lags)"
   ]
  },
  {
   "cell_type": "code",
   "execution_count": 6,
   "id": "turned-decrease",
   "metadata": {},
   "outputs": [
    {
     "data": {
      "image/png": "[encoded data removed]",
      "text/plain": [
       "<Figure size 432x288 with 1 Axes>"
      ]
     },
     "metadata": {
      "needs_background": "light"
     },
     "output_type": "display_data"
    }
   ],
   "source": [
    "fig, ax = plt.subplots()\n",
    "plot_timescales(ax=ax, its=bs_its, lags=lags/10)\n",
    "plt.yscale('log')"
   ]
  },
  {
   "cell_type": "markdown",
   "id": "future-insurance",
   "metadata": {},
   "source": [
    "## Bootstrap best model"
   ]
  },
  {
   "cell_type": "code",
   "execution_count": 7,
   "id": "conservative-latest",
   "metadata": {},
   "outputs": [],
   "source": [
    "def get_indices_in_state(dtrajs, state_set):\n",
    "    return [[i for i in range(len(dtrajs[j])) if dtrajs[j][i] in state_set] for j in range(len(dtrajs))]\n",
    "\n",
    "\n",
    "def get_ftraj_to_xtc_path(sim):\n",
    "    arr = pd.read_table(f\"{sim}/features/directory.txt\", delimiter=':').values\n",
    "    \n",
    "    return {k : f\"{sim}/aligned/{v.strip()}.xtc\" for k, v in arr}\n",
    "\n",
    "def get_dtrajs(trajs, hps):\n",
    "    vamp = pm.coordinates.vamp(trajs, **hps['vamp'])\n",
    "    y = vamp.get_output()\n",
    "    kmeans = pm.coordinates.cluster_kmeans(y, **hps['cluster_kmeans'])\n",
    "    dtrajs = [x.flatten() for x in kmeans.dtrajs]\n",
    "    return dtrajs\n",
    "\n",
    "def get_state_xtraj(dtrajs, xtrajs, states):\n",
    "    state_ix = get_indices_in_state(dtrajs, states)\n",
    "    state_xtraj = md.join([xtrajs[i][state_ix[i]] for i in range(len(state_ix))])\n",
    "    return state_xtraj\n",
    "    "
   ]
  },
  {
   "cell_type": "code",
   "execution_count": 9,
   "id": "limiting-service",
   "metadata": {},
   "outputs": [],
   "source": [
    "sim = 'transition_state'\n",
    "feature = 'phi_psi'\n",
    "hps = f(ts, 3)\n",
    "lag = 400\n",
    "n_bootstrap = 100\n",
    "n_sets = 2\n",
    "\n",
    "# Trajectories\n",
    "traj_paths = get_feature_traj_paths(sim, feature)\n",
    "trajs = get_features(traj_paths)\n",
    "n_trajs = len(trajs)\n",
    "\n",
    "# xtc trajectories\n",
    "ftraj_to_xtc_path = get_ftraj_to_xtc_path(sim)\n",
    "top = md.load(f\"{sim}/top.pdb\")\n",
    "xtrajs = [md.load(ftraj_to_xtc_path[k], top=top) for k in range(n_trajs)]\n",
    "\n",
    "# bootstrap params\n",
    "n_trajs = len(trajs)\n",
    "probs = np.array([x.shape[0] for x in trajs])\n",
    "probs = probs/np.sum(probs)\n",
    "# output variables\n",
    "out_dir = f'final_bootstraps/{sim}'\n",
    "stride=10"
   ]
  },
  {
   "cell_type": "code",
   "execution_count": 12,
   "id": "royal-button",
   "metadata": {},
   "outputs": [
    {
     "name": "stdout",
     "output_type": "stream",
     "text": [
      "25-03-21 18:00:03 pyemma.msm.estimators.maximum_likelihood_msm.MaximumLikelihoodMSM[57] WARNING  Ignored error during estimation: Active set is empty. Cannot estimate MSM.\n",
      "25-03-21 18:00:37 pyemma.msm.estimators.maximum_likelihood_msm.MaximumLikelihoodMSM[81] WARNING  Ignored error during estimation: Active set is empty. Cannot estimate MSM.\n",
      "25-03-21 18:03:37 pyemma.msm.estimators.maximum_likelihood_msm.MaximumLikelihoodMSM[185] WARNING  Ignored error during estimation: Active set is empty. Cannot estimate MSM.\n",
      "25-03-21 18:07:30 pyemma.msm.estimators.maximum_likelihood_msm.MaximumLikelihoodMSM[217] WARNING  Ignored error during estimation: Active set is empty. Cannot estimate MSM.\n",
      "25-03-21 18:21:31 pyemma.msm.estimators.maximum_likelihood_msm.MaximumLikelihoodMSM[457] WARNING  Ignored error during estimation: Active set is empty. Cannot estimate MSM.\n",
      "25-03-21 18:24:19 pyemma.msm.estimators.maximum_likelihood_msm.MaximumLikelihoodMSM[577] WARNING  Ignored error during estimation: Active set is empty. Cannot estimate MSM.\n"
     ]
    }
   ],
   "source": [
    "np.random.seed(984357)\n",
    "sim_data_lengths = np.zeros(n_bootstrap)\n",
    "\n",
    "for i in range(n_bootstrap):\n",
    "    rand_ix = np.random.choice(np.arange(n_trajs), p=probs, replace=True, size=n_trajs)\n",
    "    samp_trajs = [trajs[i] for i in rand_ix]\n",
    "    samp_xtrajs = [xtrajs[i] for i in rand_ix]\n",
    "    \n",
    "    sim_data_lengths[i] = np.sum([x.shape[0] for x in samp_trajs])\n",
    "    \n",
    "    dtrajs = get_dtrajs(samp_trajs, hps)\n",
    "    mod = pm.msm.estimate_markov_model(dtrajs, lag=lag)\n",
    "    pc = mod.pcca(n_sets)\n",
    "    \n",
    "    with warnings.catch_warnings():\n",
    "        warnings.simplefilter(\"ignore\")\n",
    "        ck = mod.cktest(nsets=n_sets)\n",
    "    \n",
    "    model = {'model': mod, 'ck_pred': ck.predictions, 'ck_est': ck.estimates}\n",
    "    pickle.dump(file=open(f'{out_dir}/model_bs_{i}.p', 'wb'), obj=model)\n",
    "    \n",
    "    state_order = np.argsort(pc.coarse_grained_stationary_probability)\n",
    "    for state_ix in state_order:\n",
    "        states = mod.metastable_sets[state_ix]\n",
    "        state_xtraj = get_state_xtraj(dtrajs, samp_xtrajs, states)\n",
    "        state_xtraj[::stride].save(f'{out_dir}/state_{state_ix}_bs_{i}.xtc')\n",
    "    \n"
   ]
  },
  {
   "cell_type": "code",
   "execution_count": null,
   "id": "ready-heritage",
   "metadata": {},
   "outputs": [],
   "source": []
  }
 ],
 "metadata": {
  "kernelspec": {
   "display_name": "Python 3 (ipykernel)",
   "language": "python",
   "name": "python3"
  },
  "language_info": {
   "codemirror_mode": {
    "name": "ipython",
    "version": 3
   },
   "file_extension": ".py",
   "mimetype": "text/x-python",
   "name": "python",
   "nbconvert_exporter": "python",
   "pygments_lexer": "ipython3",
   "version": "3.8.0"
  }
 },
 "nbformat": 4,
 "nbformat_minor": 5
}
