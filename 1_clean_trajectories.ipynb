{
 "cells": [
  {
   "cell_type": "code",
   "execution_count": 66,
   "id": "attempted-douglas",
   "metadata": {},
   "outputs": [],
   "source": [
    "import re\n",
    "from glob import glob\n",
    "import mdtraj as md\n",
    "import numpy as np\n",
    "from os.path import join"
   ]
  },
  {
   "cell_type": "markdown",
   "id": "serial-serum",
   "metadata": {},
   "source": [
    "# Introduction\n",
    "\n",
    "This workbook collates information and cleans the trajectories of Mal-L. Only the highly flexible region, residues 374 - 459 are dealt with here. \n",
    "\n",
    "\n"
   ]
  },
  {
   "cell_type": "markdown",
   "id": "illegal-radiation",
   "metadata": {},
   "source": [
    "## Align and save"
   ]
  },
  {
   "cell_type": "code",
   "execution_count": 1,
   "id": "applicable-conversion",
   "metadata": {},
   "outputs": [],
   "source": [
    "!ln -s /Volumes/REA/MD/MAL_L/reactant-region-374-459/ reactant\n",
    "!ln -s /Volumes/REA/MD/MAL_L/ts-region-374-459/ transition_state"
   ]
  },
  {
   "cell_type": "code",
   "execution_count": 70,
   "id": "hollow-external",
   "metadata": {},
   "outputs": [
    {
     "name": "stdout",
     "output_type": "stream",
     "text": [
      "mkdir: reactant/aligned: File exists\n"
     ]
    }
   ],
   "source": [
    "!mkdir reactant/aligned\n",
    "!mkdir transition_state/aligned"
   ]
  },
  {
   "cell_type": "code",
   "execution_count": 71,
   "id": "pretty-surge",
   "metadata": {},
   "outputs": [],
   "source": [
    "def clean_name(fn):\n",
    "    nums = [int(x) for x in re.findall(\"[0-9]+\", fn)]\n",
    "    \n",
    "    return 'run_{0:02d}_{1:03d}-{2:03d}ns.xtc'.format(*nums)"
   ]
  },
  {
   "cell_type": "markdown",
   "id": "attempted-wings",
   "metadata": {},
   "source": [
    "Get the names of trajectories.  These are split to remove the anomolous parts.  This was done by MC. "
   ]
  },
  {
   "cell_type": "code",
   "execution_count": 72,
   "id": "stupid-balloon",
   "metadata": {},
   "outputs": [],
   "source": [
    "r_trajs_fn = glob('reactant/trajectories/*.xtc')\n",
    "ts_trajs_fn = glob('reactant/trajectories/*.xtc')"
   ]
  },
  {
   "cell_type": "markdown",
   "id": "latin-tourism",
   "metadata": {},
   "source": [
    "Load the data"
   ]
  },
  {
   "cell_type": "code",
   "execution_count": 73,
   "id": "stupid-evolution",
   "metadata": {},
   "outputs": [],
   "source": [
    "r_top = md.load('reactant/top-374-459.pdb')\n",
    "ts_top = md.load('transition_state/top.pdb')"
   ]
  },
  {
   "cell_type": "code",
   "execution_count": 74,
   "id": "confidential-extent",
   "metadata": {},
   "outputs": [],
   "source": [
    "r_trajs = [md.load(x, top=r_top) for x in r_trajs_fn]\n",
    "ts_trajs = [md.load(x, top=ts_top) for x in ts_trajs_fn]\n"
   ]
  },
  {
   "cell_type": "markdown",
   "id": "intensive-governor",
   "metadata": {},
   "source": [
    "Align the trajectories to the crystal structure"
   ]
  },
  {
   "cell_type": "code",
   "execution_count": 76,
   "id": "homeless-railway",
   "metadata": {},
   "outputs": [
    {
     "name": "stdout",
     "output_type": "stream",
     "text": [
      "True\n"
     ]
    }
   ],
   "source": [
    "ix = r_top.top.select('name CA')\n",
    "ix2 = ts_top.top.select('name CA')\n",
    "print(np.allclose(ix, ix2))"
   ]
  },
  {
   "cell_type": "code",
   "execution_count": 77,
   "id": "ignored-knitting",
   "metadata": {},
   "outputs": [],
   "source": [
    "r_trajs_aligned = [traj.superpose(r_top, atom_indices=ix) for traj in r_trajs]\n",
    "ts_trajs_aligned = [traj.superpose(r_top, atom_indices=ix) for traj in ts_trajs]"
   ]
  },
  {
   "cell_type": "code",
   "execution_count": 78,
   "id": "communist-collector",
   "metadata": {},
   "outputs": [],
   "source": [
    "_ = [r_trajs_aligned[i].save_xtc(join('reactant/aligned', clean_name(r_trajs_fn[i]))) for i in range(len(r_trajs_aligned))]\n",
    "_ = [ts_trajs_aligned[i].save_xtc(join('transition_state/aligned', clean_name(ts_trajs_fn[i]))) for i in range(len(ts_trajs_aligned))]"
   ]
  },
  {
   "cell_type": "markdown",
   "id": "threaded-distance",
   "metadata": {},
   "source": [
    "## Simulation time"
   ]
  },
  {
   "cell_type": "markdown",
   "id": "purple-bathroom",
   "metadata": {},
   "source": [
    "There's no timestep information in the trajectories (?) however, from the number of frames and the file name we can see that the timestep is 0.1ns"
   ]
  },
  {
   "cell_type": "code",
   "execution_count": 97,
   "id": "musical-lightning",
   "metadata": {},
   "outputs": [
    {
     "name": "stdout",
     "output_type": "stream",
     "text": [
      "4500\n",
      "reactant/trajectories/run-1-60ns-510ns.xtc\n"
     ]
    }
   ],
   "source": [
    "print(T_r[0])\n",
    "print(r_trajs_fn[0])"
   ]
  },
  {
   "cell_type": "markdown",
   "id": "substantial-respect",
   "metadata": {},
   "source": [
    "The distribution of timesteps are: "
   ]
  },
  {
   "cell_type": "code",
   "execution_count": 88,
   "id": "undefined-copyright",
   "metadata": {},
   "outputs": [],
   "source": [
    "T_r = np.array([x.n_frames for x in r_trajs_aligned])\n",
    "T_ts = np.array([x.n_frames for x in ts_trajs_aligned])"
   ]
  },
  {
   "cell_type": "code",
   "execution_count": 100,
   "id": "warming-triumph",
   "metadata": {},
   "outputs": [
    {
     "data": {
      "text/plain": [
       "(array([ 500, 1000, 2100, 2400, 2900, 4500]), array([2, 2, 5, 5, 2, 3]))"
      ]
     },
     "execution_count": 100,
     "metadata": {},
     "output_type": "execute_result"
    }
   ],
   "source": [
    "np.unique(T_r, return_counts=True)"
   ]
  },
  {
   "cell_type": "code",
   "execution_count": 101,
   "id": "identical-friday",
   "metadata": {},
   "outputs": [
    {
     "data": {
      "text/plain": [
       "(array([ 500, 1000, 2100, 2400, 2900, 4500]), array([2, 2, 5, 5, 2, 3]))"
      ]
     },
     "execution_count": 101,
     "metadata": {},
     "output_type": "execute_result"
    }
   ],
   "source": [
    "np.unique(T_ts, return_counts=True)"
   ]
  },
  {
   "cell_type": "markdown",
   "id": "surface-atmosphere",
   "metadata": {},
   "source": [
    "Total simulation time is is 4.48 microsseconds for each simulation. "
   ]
  },
  {
   "cell_type": "code",
   "execution_count": 104,
   "id": "magnetic-mexican",
   "metadata": {},
   "outputs": [
    {
     "data": {
      "text/plain": [
       "4480.0"
      ]
     },
     "execution_count": 104,
     "metadata": {},
     "output_type": "execute_result"
    }
   ],
   "source": [
    "np.sum(T_r)*0.1"
   ]
  },
  {
   "cell_type": "code",
   "execution_count": 105,
   "id": "compressed-sculpture",
   "metadata": {},
   "outputs": [
    {
     "data": {
      "text/plain": [
       "4480.0"
      ]
     },
     "execution_count": 105,
     "metadata": {},
     "output_type": "execute_result"
    }
   ],
   "source": [
    "np.sum(T_ts)*0.1"
   ]
  }
 ],
 "metadata": {
  "kernelspec": {
   "display_name": "Python 3",
   "language": "python",
   "name": "python3"
  },
  "language_info": {
   "codemirror_mode": {
    "name": "ipython",
    "version": 3
   },
   "file_extension": ".py",
   "mimetype": "text/x-python",
   "name": "python",
   "nbconvert_exporter": "python",
   "pygments_lexer": "ipython3",
   "version": "3.8.0"
  }
 },
 "nbformat": 4,
 "nbformat_minor": 5
}
