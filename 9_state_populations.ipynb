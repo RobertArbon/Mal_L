{
 "cells": [
  {
   "cell_type": "code",
   "execution_count": 41,
   "id": "proved-convert",
   "metadata": {},
   "outputs": [],
   "source": [
    "import pickle\n",
    "import matplotlib.pyplot as plt\n",
    "from pathlib import Path\n",
    "import numpy as np\n",
    "import seaborn as sns\n",
    "import itertools\n",
    "import pyemma as pm\n",
    "import matplotlib as mpl\n",
    "import pandas as pd"
   ]
  },
  {
   "cell_type": "code",
   "execution_count": 42,
   "id": "handmade-enemy",
   "metadata": {},
   "outputs": [],
   "source": [
    "sim = 'reactant'\n",
    "data_dir  = f'final_bootstraps/{sim}'"
   ]
  },
  {
   "cell_type": "code",
   "execution_count": 43,
   "id": "planned-spine",
   "metadata": {},
   "outputs": [],
   "source": [
    "def quantile(vals, q=0.5):\n",
    "    tmp = np.quantile(vals, q=q, axis=0)\n",
    "    return tmp"
   ]
  },
  {
   "cell_type": "code",
   "execution_count": 44,
   "id": "potential-listening",
   "metadata": {},
   "outputs": [],
   "source": [
    "dt = 0.1\n",
    "mod = pickle.load(open(data_dir+'/model_bs_0.p', 'rb'))\n",
    "lag = (mod['model'].lag*dt)\n",
    "lags = (np.arange(1, 51)/dt).astype(int)"
   ]
  },
  {
   "cell_type": "code",
   "execution_count": 45,
   "id": "adolescent-criterion",
   "metadata": {},
   "outputs": [],
   "source": [
    "mods = [pickle.load(x.open('rb')) for x in Path(data_dir).glob('*.p')]"
   ]
  },
  {
   "cell_type": "code",
   "execution_count": 46,
   "id": "changed-civilization",
   "metadata": {},
   "outputs": [],
   "source": [
    "cmods = [x['model'].pcca(2) for x in mods]"
   ]
  },
  {
   "cell_type": "code",
   "execution_count": 47,
   "id": "renewable-freedom",
   "metadata": {},
   "outputs": [],
   "source": [
    "pops = np.concatenate([np.sort(x.coarse_grained_stationary_probability).reshape(1, -1) for x in cmods])"
   ]
  },
  {
   "cell_type": "code",
   "execution_count": 48,
   "id": "automated-tragedy",
   "metadata": {},
   "outputs": [],
   "source": [
    "pops_m = quantile(pops)\n",
    "pops_lb = quantile(pops, q=0.025)\n",
    "pops_ub = quantile(pops, q=0.975)"
   ]
  },
  {
   "cell_type": "code",
   "execution_count": 49,
   "id": "distinct-somewhere",
   "metadata": {},
   "outputs": [],
   "source": [
    "results = pd.DataFrame({'mean': pops.mean(axis=0), 'median': pops_m, 'lb': pops_lb, 'ub': pops_ub})\n",
    "results.index.name ='State'"
   ]
  },
  {
   "cell_type": "code",
   "execution_count": 50,
   "id": "equal-respondent",
   "metadata": {},
   "outputs": [],
   "source": [
    "(results*100).T.to_csv(f\"{sim}_populations.csv\", index=True)"
   ]
  },
  {
   "cell_type": "code",
   "execution_count": 51,
   "id": "moving-letters",
   "metadata": {},
   "outputs": [],
   "source": [
    "t2s = [x['model'].timescales()[0] for x in mods]\n",
    "t2s_m = quantile(t2s)*dt/1000\n",
    "t2s_lb = quantile(t2s, q=0.025)*dt/1000\n",
    "t2s_ub = quantile(t2s, q=0.975)*dt/1000"
   ]
  },
  {
   "cell_type": "code",
   "execution_count": 52,
   "id": "racial-texture",
   "metadata": {},
   "outputs": [
    {
     "data": {
      "text/plain": [
       "'12.61 [1.04,  1615.38]'"
      ]
     },
     "execution_count": 52,
     "metadata": {},
     "output_type": "execute_result"
    }
   ],
   "source": [
    "f\"{t2s_m:4.2f} [{t2s_lb:4.2f},  {t2s_ub:4.2f}]\""
   ]
  },
  {
   "cell_type": "code",
   "execution_count": null,
   "id": "owned-playback",
   "metadata": {},
   "outputs": [],
   "source": []
  }
 ],
 "metadata": {
  "kernelspec": {
   "display_name": "Python 3",
   "language": "python",
   "name": "python3"
  },
  "language_info": {
   "codemirror_mode": {
    "name": "ipython",
    "version": 3
   },
   "file_extension": ".py",
   "mimetype": "text/x-python",
   "name": "python",
   "nbconvert_exporter": "python",
   "pygments_lexer": "ipython3",
   "version": "3.8.0"
  }
 },
 "nbformat": 4,
 "nbformat_minor": 5
}
