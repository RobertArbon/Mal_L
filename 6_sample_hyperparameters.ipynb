{
 "cells": [
  {
   "cell_type": "code",
   "execution_count": 1,
   "id": "pleased-disclaimer",
   "metadata": {},
   "outputs": [],
   "source": [
    "from functions import sample_hyperparameters, get_features, discretize_trajectories, get_feature_traj_paths, bootstrap_vamp\n",
    "import pickle\n",
    "import numpy as np\n",
    "import pyemma as pm\n",
    "import matplotlib.pyplot as plt\n",
    "import seaborn as sns\n",
    "from os.path import join\n",
    "from pathlib import Path\n",
    "from rich.progress import Progress"
   ]
  },
  {
   "cell_type": "code",
   "execution_count": 2,
   "id": "unnecessary-nation",
   "metadata": {},
   "outputs": [],
   "source": [
    "search_space = pickle.load(open('common/hp_search_space.p', 'rb'))\n",
    "features = [\"contact_filtered\", 'alpha', 'phi_psi']\n",
    "sim_names = ['transition_state', 'reactant']\n",
    "lag = 400\n",
    "score_k = 2+1"
   ]
  },
  {
   "cell_type": "markdown",
   "id": "foreign-spyware",
   "metadata": {},
   "source": [
    "# Introduction\n",
    "\n",
    "Having established a lag time of 40ns and 3 dominant (2 non-trivial) relaxation processes to score in the previous notebooks. This notebook will score randomly sampled hyperparameters, this will be the same as 5a, but with more hps per feature. "
   ]
  },
  {
   "cell_type": "code",
   "execution_count": null,
   "id": "labeled-apple",
   "metadata": {},
   "outputs": [
    {
     "data": {
      "text/html": [
       "<pre style=\"white-space:pre;overflow-x:auto;line-height:normal;font-family:Menlo,'DejaVu Sans Mono',consolas,'Courier New',monospace\"><span style=\"color: #008000; text-decoration-color: #008000\"> Sampling 30 HPs for transition_state with contact_filtered feature</span> <span style=\"color: #f92672; text-decoration-color: #f92672\">━━━━━━━</span><span style=\"color: #3a3a3a; text-decoration-color: #3a3a3a\">╺━━━━</span> <span style=\"color: #800080; text-decoration-color: #800080\"> 60%</span> <span style=\"color: #008080; text-decoration-color: #008080\">-:--:--</span>\n",
       "</pre>\n"
      ],
      "text/plain": [
       "<rich.jupyter.JupyterRenderable at 0x7fd6401d34f0>"
      ]
     },
     "metadata": {},
     "output_type": "display_data"
    }
   ],
   "source": [
    "np.random.seed(93475)\n",
    "\n",
    "hps_per_feature = 30\n",
    "n_bootstraps = 100\n",
    "failed_hps = []\n",
    "\n",
    "for sim in sim_names:\n",
    "    for feature in features:\n",
    "        \n",
    "        traj_paths = get_feature_traj_paths(sim, feature)\n",
    "        with Progress() as progress:\n",
    "            \n",
    "            task = progress.add_task('[green] Sampling {2} HPs for {0} with {1} feature'.format(sim, feature, hps_per_feature), total=hps_per_feature)\n",
    "\n",
    "            for i in range(hps_per_feature):\n",
    "\n",
    "                hps = sample_hyperparameters(search_space)\n",
    "                fname = f\"{sim}_{feature}_l{hps['vamp']['lag']}_d{hps['vamp']['dim']}_n{hps['cluster_kmeans']['k']}.p\"\n",
    "                fpath = join('hp_sampling', fname)\n",
    "                if not Path(fpath).exists():\n",
    "                    try:\n",
    "                        vamps = bootstrap_vamp(n=n_bootstraps, hps=hps, traj_paths=traj_paths, lag=lag, vamp_k=score_k)\n",
    "                        pickle.dump(file=open(fpath, 'wb'), obj=[hps, vamps])\n",
    "                        progress.update(task, advance=1)\n",
    "                    except: \n",
    "                        print('ERROR with ', fname)\n",
    "                        failed_hps.append(hps)"
   ]
  },
  {
   "cell_type": "code",
   "execution_count": 16,
   "id": "level-bullet",
   "metadata": {},
   "outputs": [
    {
     "name": "stdout",
     "output_type": "stream",
     "text": [
      "{'vamp': {'dim': 5, 'lag': 144}, 'cluster_kmeans': {'k': 103, 'max_iter': 1000}}\n",
      "8\n"
     ]
    }
   ],
   "source": [
    "# hps_per_feature = 5\n",
    "n_bootstraps = 100\n",
    "sim = 'reactant'\n",
    "feature = 'phi_psi'\n",
    "hps = sample_hyperparameters(search_space)\n",
    "print(hps)\n",
    "fname = f\"{sim}_{feature}_l{hps['vamp']['lag']}_d{hps['vamp']['dim']}_n{hps['cluster_kmeans']['k']}.p\"\n",
    "fpath = join('lag_determination', fname)\n",
    "traj_paths = get_feature_traj_paths(sim, feature)\n",
    "\n",
    "bs_its = bootstrap_ts2(n=n_bootstraps, hps=hps, traj_paths=traj_paths, lags=lags)\n",
    "\n",
    "\n",
    "pickle.dump(file=open(fpath, 'wb'), obj=[hps, bs_its])\n"
   ]
  },
  {
   "cell_type": "code",
   "execution_count": null,
   "id": "stable-framework",
   "metadata": {},
   "outputs": [],
   "source": []
  }
 ],
 "metadata": {
  "kernelspec": {
   "display_name": "Python 3",
   "language": "python",
   "name": "python3"
  },
  "language_info": {
   "codemirror_mode": {
    "name": "ipython",
    "version": 3
   },
   "file_extension": ".py",
   "mimetype": "text/x-python",
   "name": "python",
   "nbconvert_exporter": "python",
   "pygments_lexer": "ipython3",
   "version": "3.8.0"
  }
 },
 "nbformat": 4,
 "nbformat_minor": 5
}
