{
 "cells": [
  {
   "cell_type": "code",
   "execution_count": 108,
   "id": "heavy-speech",
   "metadata": {},
   "outputs": [],
   "source": [
    "import pickle\n",
    "import matplotlib.pyplot as plt\n",
    "from pathlib import Path\n",
    "import numpy as np\n",
    "import seaborn as sns\n",
    "import itertools\n",
    "import pyemma as pm"
   ]
  },
  {
   "cell_type": "code",
   "execution_count": 123,
   "id": "interpreted-configuration",
   "metadata": {},
   "outputs": [],
   "source": [
    "sim = 'transition_state'\n",
    "data_dir  = f'final_bootstraps/{sim}'"
   ]
  },
  {
   "cell_type": "code",
   "execution_count": 124,
   "id": "variable-duplicate",
   "metadata": {},
   "outputs": [],
   "source": [
    "dt = 0.1\n",
    "mod = pickle.load(open(data_dir+'/model_bs_0.p', 'rb'))\n",
    "lag = (mod['model'].lag*dt)"
   ]
  },
  {
   "cell_type": "code",
   "execution_count": 125,
   "id": "knowing-cover",
   "metadata": {},
   "outputs": [],
   "source": [
    "def plot_ck(pred, est, lags, axes, est_kwargs, pred_kwargs):\n",
    "    axes = axes.flatten()\n",
    "    pred = pred.reshape(pred.shape[0], -1)\n",
    "    est = est.reshape(est.shape[0], -1)\n",
    "    for i in range(axes.shape[0]):\n",
    "        ax = axes[i]\n",
    "        ax.plot(lags, pred[i], **pred_kwargs)\n",
    "        ax.plot(lags, est[i], **est_kwargs)\n",
    "        \n",
    "        "
   ]
  },
  {
   "cell_type": "code",
   "execution_count": 126,
   "id": "studied-mouse",
   "metadata": {},
   "outputs": [],
   "source": [
    "mods = [pickle.load(x.open('rb')) for x in Path(data_dir).glob('*.p')]"
   ]
  },
  {
   "cell_type": "code",
   "execution_count": 127,
   "id": "sudden-liberty",
   "metadata": {},
   "outputs": [],
   "source": [
    "preds = np.concatenate([x['ck_pred'][np.newaxis, ...] for x in mods], axis=0)\n",
    "ests = np.concatenate([x['ck_est'][np.newaxis, ...] for x in mods], axis=0)"
   ]
  },
  {
   "cell_type": "code",
   "execution_count": 128,
   "id": "burning-world",
   "metadata": {},
   "outputs": [],
   "source": [
    "def quantile(vals, q=0.5):\n",
    "    vals = np.concatenate([x[np.newaxis, ...] for x in vals[:, ...] if np.sum(np.isnan(x))==0], axis=0)\n",
    "    tmp = np.quantile(vals, q=q, axis=0)\n",
    "    tmp = tmp.reshape(tmp.shape[0], -1)\n",
    "    return tmp"
   ]
  },
  {
   "cell_type": "code",
   "execution_count": 129,
   "id": "identical-hungarian",
   "metadata": {},
   "outputs": [],
   "source": [
    "preds_m = quantile(preds)\n",
    "preds_lb = quantile(preds, q=0.025)\n",
    "preds_ub = quantile(preds, q=0.975)\n",
    "\n",
    "ests_m = quantile(ests)\n",
    "ests_lb = quantile(ests, q=0.025)\n",
    "ests_ub = quantile(ests, q=0.975)\n",
    "\n",
    "lags = lag*np.arange(6)"
   ]
  },
  {
   "cell_type": "code",
   "execution_count": 130,
   "id": "nearby-medicare",
   "metadata": {},
   "outputs": [
    {
     "data": {
      "image/png": "[encoded data removed]",
      "text/plain": [
       "<Figure size 432x288 with 4 Axes>"
      ]
     },
     "metadata": {
      "needs_background": "light"
     },
     "output_type": "display_data"
    }
   ],
   "source": [
    "with sns.plotting_context('paper', font_scale=1.25):\n",
    "    fig, axes = plt.subplots(*preds.shape[-2:], sharex=True, sharey=True)\n",
    "\n",
    "    cols = sns.color_palette('colorblind')\n",
    "    delta_y = 0.1\n",
    "    pred_col = cols[1]\n",
    "    est_col = cols[0]\n",
    "    \n",
    "    \n",
    "    for i, ax in enumerate(axes.flatten()):\n",
    "        ax.plot(lags, preds_m[:lags.shape[0], i], color=pred_col, label='Prediction')\n",
    "        ax.plot(lags, ests_m[:lags.shape[0], i], color=est_col, label='Estimated', marker='o')\n",
    "        ax.fill_between(lags, ests_lb[:lags.shape[0], i], ests_ub[:lags.shape[0], i], alpha=0.1, color=est_col)\n",
    "        \n",
    "        x, y = np.unravel_index(indices=i, shape=(2, 2))\n",
    "        ax.annotate(text=f\"{x+1}->{y+1}\", xy=(0.95, 0.95), ha='right', va='top', xycoords='axes fraction', bbox={'facecolor': 'w', 'edgecolor': 'w', 'alpha': 0.5})\n",
    "        \n",
    "        \n",
    "        ax.set_ylim(-delta_y, 1+delta_y)\n",
    "        if i //2 == 1:\n",
    "            ax.set_xlabel('Lag time (ns)')\n",
    "        if i % 2 == 0:\n",
    "            ax.set_ylabel('Probability')\n",
    "        if i == 1:\n",
    "            ax.legend(bbox_to_anchor=(1, 1), loc='upper left')\n",
    "    plt.savefig(f'figures/ck_test_{sim}.pdf', bbox_inches='tight')"
   ]
  },
  {
   "cell_type": "code",
   "execution_count": null,
   "id": "tough-light",
   "metadata": {},
   "outputs": [],
   "source": []
  }
 ],
 "metadata": {
  "kernelspec": {
   "display_name": "Python 3",
   "language": "python",
   "name": "python3"
  },
  "language_info": {
   "codemirror_mode": {
    "name": "ipython",
    "version": 3
   },
   "file_extension": ".py",
   "mimetype": "text/x-python",
   "name": "python",
   "nbconvert_exporter": "python",
   "pygments_lexer": "ipython3",
   "version": "3.8.0"
  }
 },
 "nbformat": 4,
 "nbformat_minor": 5
}
