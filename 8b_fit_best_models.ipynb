{
 "cells": [
  {
   "cell_type": "code",
   "execution_count": 3,
   "id": "chinese-paragraph",
   "metadata": {},
   "outputs": [],
   "source": [
    "import pyemma as pm\n",
    "from functions import discretize_trajectories, get_features, get_feature_traj_paths, bootstrap_ts2\n",
    "import matplotlib.pyplot as plt\n",
    "import seaborn as sns\n",
    "import numpy as np\n",
    "import pandas as pd\n",
    "import mdtraj as md\n",
    "import warnings\n",
    "import pickle"
   ]
  },
  {
   "cell_type": "code",
   "execution_count": 17,
   "id": "modular-combine",
   "metadata": {},
   "outputs": [],
   "source": [
    "def f(df, ix):\n",
    "    dim, lag, k = df.loc[ix, ['dim', 'lag', 'k']].values\n",
    "    return {'vamp': {'dim': dim, 'lag': lag }, 'cluster_kmeans': {'k': k, 'max_iter': 1000}}\n",
    "\n",
    "\n",
    "cols = sns.color_palette('colorblind')\n",
    "\n",
    "def get_timescales(its):\n",
    "    mean = np.mean(its, axis=0)\n",
    "    lb = np.quantile(its, q=0.025, axis=0)\n",
    "    ub = np.quantile(its, q=0.975, axis=0)\n",
    "    return (mean, lb, ub)\n",
    "\n",
    "def get_ratios(its):\n",
    "    ratios = its[:, :, :-1]/its[:, :, 1:]\n",
    "    mean = np.mean(ratios, axis=0)\n",
    "    lb = np.quantile(ratios, q=0.025, axis=0)\n",
    "    ub = np.quantile(ratios, q=0.975, axis=0)\n",
    "    return (mean, lb, ub)\n",
    "\n",
    "\n",
    "def plot_timescales(ax, its, lags):\n",
    "    mean_its, lb_its, ub_its = get_timescales(its)\n",
    "    for k in range(mean_its.shape[-1]):\n",
    "        ax.plot(lags, mean_its[:, k], label=r'$t_{{{}}}$'.format(k+2))\n",
    "        ax.fill_between(lags, lb_its[:, k], ub_its[:, k], alpha=0.2)\n",
    "\n",
    "        \n",
    "def plot_ratios(ax, its, lag_ix=-1):\n",
    "    mean_its, lb_its, ub_its = get_ratios(its)\n",
    "    for k in range(mean_its.shape[-1]):\n",
    "        yerr = [[mean_its[lag_ix, k]-lb_its[lag_ix, k]], [ub_its[lag_ix, k]-mean_its[lag_ix, k]]]\n",
    "        ax.errorbar(int(k+2), mean_its[lag_ix, k], yerr=yerr, label=r'$t_{{{}}}/t_{{{}}}$'.format(k+2, k+3), marker='o', color=cols[0])\n",
    "        \n",
    "        \n",
    "def get_file_paths(sim_name, feature):\n",
    "    glob_path = f'lag_determination/{sim_name}_{feature}_*.p'\n",
    "    file_paths = glob(glob_path)\n",
    "    return file_paths\n",
    "\n",
    "def hp_label(hps):\n",
    "    msg = rf\"$\\tau$: {hps['vamp']['lag']/10} ns, $m$: {hps['vamp']['dim']}, $n$: {hps['cluster_kmeans']['k']}\"\n",
    "    return msg"
   ]
  },
  {
   "cell_type": "markdown",
   "id": "pending-access",
   "metadata": {},
   "source": [
    "# Reactant state"
   ]
  },
  {
   "cell_type": "code",
   "execution_count": 6,
   "id": "similar-table",
   "metadata": {},
   "outputs": [
    {
     "data": {
      "text/html": [
       "<div>\n",
       "<style scoped>\n",
       "    .dataframe tbody tr th:only-of-type {\n",
       "        vertical-align: middle;\n",
       "    }\n",
       "\n",
       "    .dataframe tbody tr th {\n",
       "        vertical-align: top;\n",
       "    }\n",
       "\n",
       "    .dataframe thead th {\n",
       "        text-align: right;\n",
       "    }\n",
       "</style>\n",
       "<table border=\"1\" class=\"dataframe\">\n",
       "  <thead>\n",
       "    <tr style=\"text-align: right;\">\n",
       "      <th></th>\n",
       "      <th>dim</th>\n",
       "      <th>lag</th>\n",
       "      <th>k</th>\n",
       "      <th>feature</th>\n",
       "      <th>y</th>\n",
       "      <th>mu</th>\n",
       "    </tr>\n",
       "  </thead>\n",
       "  <tbody>\n",
       "    <tr>\n",
       "      <th>0</th>\n",
       "      <td>10</td>\n",
       "      <td>85</td>\n",
       "      <td>200</td>\n",
       "      <td>contact_filtered</td>\n",
       "      <td>2.834898</td>\n",
       "      <td>2.832898</td>\n",
       "    </tr>\n",
       "    <tr>\n",
       "      <th>1</th>\n",
       "      <td>9</td>\n",
       "      <td>102</td>\n",
       "      <td>142</td>\n",
       "      <td>contact_filtered</td>\n",
       "      <td>2.815510</td>\n",
       "      <td>2.817156</td>\n",
       "    </tr>\n",
       "    <tr>\n",
       "      <th>2</th>\n",
       "      <td>9</td>\n",
       "      <td>189</td>\n",
       "      <td>130</td>\n",
       "      <td>contact_filtered</td>\n",
       "      <td>2.815776</td>\n",
       "      <td>2.813719</td>\n",
       "    </tr>\n",
       "    <tr>\n",
       "      <th>3</th>\n",
       "      <td>5</td>\n",
       "      <td>233</td>\n",
       "      <td>188</td>\n",
       "      <td>contact_filtered</td>\n",
       "      <td>2.770540</td>\n",
       "      <td>2.792276</td>\n",
       "    </tr>\n",
       "    <tr>\n",
       "      <th>4</th>\n",
       "      <td>8</td>\n",
       "      <td>249</td>\n",
       "      <td>106</td>\n",
       "      <td>contact_filtered</td>\n",
       "      <td>2.805849</td>\n",
       "      <td>2.787170</td>\n",
       "    </tr>\n",
       "  </tbody>\n",
       "</table>\n",
       "</div>"
      ],
      "text/plain": [
       "   dim  lag    k           feature         y        mu\n",
       "0   10   85  200  contact_filtered  2.834898  2.832898\n",
       "1    9  102  142  contact_filtered  2.815510  2.817156\n",
       "2    9  189  130  contact_filtered  2.815776  2.813719\n",
       "3    5  233  188  contact_filtered  2.770540  2.792276\n",
       "4    8  249  106  contact_filtered  2.805849  2.787170"
      ]
     },
     "execution_count": 6,
     "metadata": {},
     "output_type": "execute_result"
    }
   ],
   "source": [
    "sim = 'reactant'\n",
    "lags = (np.arange(1, 50)*10).astype(int)\n",
    "n_bootstrap = 100\n",
    "\n",
    "ts = pd.read_csv(open(f'common/best_{sim}_hps.csv'))\n",
    "ts.head()"
   ]
  },
  {
   "cell_type": "markdown",
   "id": "immediate-anxiety",
   "metadata": {},
   "source": [
    "## Contacts "
   ]
  },
  {
   "cell_type": "code",
   "execution_count": 7,
   "id": "ideal-freeze",
   "metadata": {},
   "outputs": [
    {
     "data": {
      "image/png": "[encoded data removed]",
      "text/plain": [
       "<Figure size 432x288 with 1 Axes>"
      ]
     },
     "metadata": {
      "needs_background": "light"
     },
     "output_type": "display_data"
    }
   ],
   "source": [
    "hps = f(ts, 0)\n",
    "feature = 'contact_filtered'\n",
    "\n",
    "traj_paths = get_feature_traj_paths(sim_name=sim, feature=feature)\n",
    "bs_its = bootstrap_ts2(n=n_bootstrap, hps=hps, traj_paths=traj_paths, lags=lags)\n",
    "fig, ax = plt.subplots()\n",
    "plot_timescales(ax=ax, its=bs_its, lags=lags/10)\n",
    "plt.yscale('log')"
   ]
  },
  {
   "cell_type": "markdown",
   "id": "involved-chosen",
   "metadata": {},
   "source": [
    "set ribbon_trace_atoms,1set ribbon_trace_atoms,1The contact feature doesn't give a very Markovian basis. "
   ]
  },
  {
   "cell_type": "code",
   "execution_count": 10,
   "id": "regional-thought",
   "metadata": {},
   "outputs": [
    {
     "data": {
      "text/html": [
       "<div>\n",
       "<style scoped>\n",
       "    .dataframe tbody tr th:only-of-type {\n",
       "        vertical-align: middle;\n",
       "    }\n",
       "\n",
       "    .dataframe tbody tr th {\n",
       "        vertical-align: top;\n",
       "    }\n",
       "\n",
       "    .dataframe thead th {\n",
       "        text-align: right;\n",
       "    }\n",
       "</style>\n",
       "<table border=\"1\" class=\"dataframe\">\n",
       "  <thead>\n",
       "    <tr style=\"text-align: right;\">\n",
       "      <th></th>\n",
       "      <th>dim</th>\n",
       "      <th>lag</th>\n",
       "      <th>k</th>\n",
       "      <th>feature</th>\n",
       "      <th>y</th>\n",
       "      <th>mu</th>\n",
       "    </tr>\n",
       "  </thead>\n",
       "  <tbody>\n",
       "    <tr>\n",
       "      <th>20</th>\n",
       "      <td>8</td>\n",
       "      <td>146</td>\n",
       "      <td>84</td>\n",
       "      <td>phi_psi</td>\n",
       "      <td>2.740255</td>\n",
       "      <td>2.697777</td>\n",
       "    </tr>\n",
       "    <tr>\n",
       "      <th>22</th>\n",
       "      <td>8</td>\n",
       "      <td>119</td>\n",
       "      <td>92</td>\n",
       "      <td>phi_psi</td>\n",
       "      <td>2.743393</td>\n",
       "      <td>2.692111</td>\n",
       "    </tr>\n",
       "    <tr>\n",
       "      <th>25</th>\n",
       "      <td>7</td>\n",
       "      <td>159</td>\n",
       "      <td>133</td>\n",
       "      <td>phi_psi</td>\n",
       "      <td>2.658174</td>\n",
       "      <td>2.685679</td>\n",
       "    </tr>\n",
       "    <tr>\n",
       "      <th>26</th>\n",
       "      <td>7</td>\n",
       "      <td>161</td>\n",
       "      <td>202</td>\n",
       "      <td>phi_psi</td>\n",
       "      <td>2.645758</td>\n",
       "      <td>2.675922</td>\n",
       "    </tr>\n",
       "    <tr>\n",
       "      <th>32</th>\n",
       "      <td>9</td>\n",
       "      <td>237</td>\n",
       "      <td>14</td>\n",
       "      <td>phi_psi</td>\n",
       "      <td>2.633969</td>\n",
       "      <td>2.667333</td>\n",
       "    </tr>\n",
       "  </tbody>\n",
       "</table>\n",
       "</div>"
      ],
      "text/plain": [
       "    dim  lag    k  feature         y        mu\n",
       "20    8  146   84  phi_psi  2.740255  2.697777\n",
       "22    8  119   92  phi_psi  2.743393  2.692111\n",
       "25    7  159  133  phi_psi  2.658174  2.685679\n",
       "26    7  161  202  phi_psi  2.645758  2.675922\n",
       "32    9  237   14  phi_psi  2.633969  2.667333"
      ]
     },
     "execution_count": 10,
     "metadata": {},
     "output_type": "execute_result"
    }
   ],
   "source": [
    "ts.loc[ts['feature']=='phi_psi', :].head()"
   ]
  },
  {
   "cell_type": "markdown",
   "id": "pressing-preliminary",
   "metadata": {},
   "source": [
    "## Phi/Psi"
   ]
  },
  {
   "cell_type": "code",
   "execution_count": 11,
   "id": "herbal-latin",
   "metadata": {},
   "outputs": [],
   "source": [
    "feature = 'phi_psi'\n",
    "hps = f(ts, 20)\n",
    "traj_paths = get_feature_traj_paths(sim_name=sim, feature=feature)\n",
    "bs_its = bootstrap_ts2(n=n_bootstrap, hps=hps, traj_paths=traj_paths, lags=lags)"
   ]
  },
  {
   "cell_type": "code",
   "execution_count": 12,
   "id": "arabic-width",
   "metadata": {},
   "outputs": [
    {
     "data": {
      "image/png": "[encoded data removed]",
      "text/plain": [
       "<Figure size 432x288 with 1 Axes>"
      ]
     },
     "metadata": {
      "needs_background": "light"
     },
     "output_type": "display_data"
    }
   ],
   "source": [
    "fig, ax = plt.subplots()\n",
    "plot_timescales(ax=ax, its=bs_its, lags=lags/10)\n",
    "plt.yscale('log')"
   ]
  },
  {
   "cell_type": "markdown",
   "id": "sufficient-venice",
   "metadata": {},
   "source": [
    "## Alpha"
   ]
  },
  {
   "cell_type": "code",
   "execution_count": 13,
   "id": "cloudy-institution",
   "metadata": {},
   "outputs": [
    {
     "data": {
      "text/html": [
       "<div>\n",
       "<style scoped>\n",
       "    .dataframe tbody tr th:only-of-type {\n",
       "        vertical-align: middle;\n",
       "    }\n",
       "\n",
       "    .dataframe tbody tr th {\n",
       "        vertical-align: top;\n",
       "    }\n",
       "\n",
       "    .dataframe thead th {\n",
       "        text-align: right;\n",
       "    }\n",
       "</style>\n",
       "<table border=\"1\" class=\"dataframe\">\n",
       "  <thead>\n",
       "    <tr style=\"text-align: right;\">\n",
       "      <th></th>\n",
       "      <th>dim</th>\n",
       "      <th>lag</th>\n",
       "      <th>k</th>\n",
       "      <th>feature</th>\n",
       "      <th>y</th>\n",
       "      <th>mu</th>\n",
       "    </tr>\n",
       "  </thead>\n",
       "  <tbody>\n",
       "    <tr>\n",
       "      <th>24</th>\n",
       "      <td>9</td>\n",
       "      <td>135</td>\n",
       "      <td>142</td>\n",
       "      <td>alpha</td>\n",
       "      <td>2.679126</td>\n",
       "      <td>2.686073</td>\n",
       "    </tr>\n",
       "    <tr>\n",
       "      <th>27</th>\n",
       "      <td>10</td>\n",
       "      <td>235</td>\n",
       "      <td>162</td>\n",
       "      <td>alpha</td>\n",
       "      <td>2.664095</td>\n",
       "      <td>2.673904</td>\n",
       "    </tr>\n",
       "    <tr>\n",
       "      <th>30</th>\n",
       "      <td>8</td>\n",
       "      <td>58</td>\n",
       "      <td>172</td>\n",
       "      <td>alpha</td>\n",
       "      <td>2.665585</td>\n",
       "      <td>2.668335</td>\n",
       "    </tr>\n",
       "    <tr>\n",
       "      <th>31</th>\n",
       "      <td>9</td>\n",
       "      <td>227</td>\n",
       "      <td>131</td>\n",
       "      <td>alpha</td>\n",
       "      <td>2.667727</td>\n",
       "      <td>2.667747</td>\n",
       "    </tr>\n",
       "    <tr>\n",
       "      <th>33</th>\n",
       "      <td>8</td>\n",
       "      <td>134</td>\n",
       "      <td>108</td>\n",
       "      <td>alpha</td>\n",
       "      <td>2.642061</td>\n",
       "      <td>2.660345</td>\n",
       "    </tr>\n",
       "  </tbody>\n",
       "</table>\n",
       "</div>"
      ],
      "text/plain": [
       "    dim  lag    k feature         y        mu\n",
       "24    9  135  142   alpha  2.679126  2.686073\n",
       "27   10  235  162   alpha  2.664095  2.673904\n",
       "30    8   58  172   alpha  2.665585  2.668335\n",
       "31    9  227  131   alpha  2.667727  2.667747\n",
       "33    8  134  108   alpha  2.642061  2.660345"
      ]
     },
     "execution_count": 13,
     "metadata": {},
     "output_type": "execute_result"
    }
   ],
   "source": [
    "ts.loc[ts['feature']=='alpha', :].head()"
   ]
  },
  {
   "cell_type": "code",
   "execution_count": 14,
   "id": "military-protest",
   "metadata": {},
   "outputs": [],
   "source": [
    "feature = 'alpha'\n",
    "hps = f(ts, 24)\n",
    "traj_paths = get_feature_traj_paths(sim_name=sim, feature=feature)\n",
    "bs_its = bootstrap_ts2(n=n_bootstrap, hps=hps, traj_paths=traj_paths, lags=lags)"
   ]
  },
  {
   "cell_type": "code",
   "execution_count": 15,
   "id": "floating-sustainability",
   "metadata": {},
   "outputs": [
    {
     "data": {
      "image/png": "[encoded data removed]",
      "text/plain": [
       "<Figure size 432x288 with 1 Axes>"
      ]
     },
     "metadata": {
      "needs_background": "light"
     },
     "output_type": "display_data"
    }
   ],
   "source": [
    "fig, ax = plt.subplots()\n",
    "plot_timescales(ax=ax, its=bs_its, lags=lags/10)\n",
    "plt.yscale('log')"
   ]
  },
  {
   "cell_type": "markdown",
   "id": "local-nightmare",
   "metadata": {},
   "source": [
    "## Bootstrap best model"
   ]
  },
  {
   "cell_type": "code",
   "execution_count": 18,
   "id": "brave-substitute",
   "metadata": {},
   "outputs": [],
   "source": [
    "def get_indices_in_state(dtrajs, state_set):\n",
    "    return [[i for i in range(len(dtrajs[j])) if dtrajs[j][i] in state_set] for j in range(len(dtrajs))]\n",
    "\n",
    "\n",
    "def get_ftraj_to_xtc_path(sim):\n",
    "    arr = pd.read_table(f\"{sim}/features/directory.txt\", delimiter=':').values\n",
    "    \n",
    "    return {k : f\"{sim}/aligned/{v.strip()}.xtc\" for k, v in arr}\n",
    "\n",
    "def get_dtrajs(trajs, hps):\n",
    "    vamp = pm.coordinates.vamp(trajs, **hps['vamp'])\n",
    "    y = vamp.get_output()\n",
    "    kmeans = pm.coordinates.cluster_kmeans(y, **hps['cluster_kmeans'])\n",
    "    dtrajs = [x.flatten() for x in kmeans.dtrajs]\n",
    "    return dtrajs\n",
    "\n",
    "def get_state_xtraj(dtrajs, xtrajs, states):\n",
    "    state_ix = get_indices_in_state(dtrajs, states)\n",
    "    state_xtraj = md.join([xtrajs[i][state_ix[i]] for i in range(len(state_ix))])\n",
    "    return state_xtraj\n",
    "    "
   ]
  },
  {
   "cell_type": "code",
   "execution_count": 20,
   "id": "offshore-provider",
   "metadata": {},
   "outputs": [],
   "source": [
    "sim = 'reactant'\n",
    "feature = 'contact_filtered'\n",
    "hps = f(ts, 0)\n",
    "lag = 400\n",
    "n_bootstrap = 100\n",
    "n_sets = 2\n",
    "\n",
    "# Trajectories\n",
    "traj_paths = get_feature_traj_paths(sim, feature)\n",
    "trajs = get_features(traj_paths)\n",
    "n_trajs = len(trajs)\n",
    "\n",
    "# xtc trajectories\n",
    "ftraj_to_xtc_path = get_ftraj_to_xtc_path(sim)\n",
    "top = md.load(f\"{sim}/top-374-459.pdb\")\n",
    "xtrajs = [md.load(ftraj_to_xtc_path[k], top=top) for k in range(n_trajs)]\n",
    "\n",
    "# bootstrap params\n",
    "n_trajs = len(trajs)\n",
    "probs = np.array([x.shape[0] for x in trajs])\n",
    "probs = probs/np.sum(probs)\n",
    "# output variables\n",
    "out_dir = f'final_bootstraps/{sim}'\n",
    "stride=10"
   ]
  },
  {
   "cell_type": "code",
   "execution_count": 21,
   "id": "indian-player",
   "metadata": {},
   "outputs": [
    {
     "name": "stdout",
     "output_type": "stream",
     "text": [
      "25-03-21 18:51:46 pyemma.msm.estimators.maximum_likelihood_msm.MaximumLikelihoodMSM[49] WARNING  Ignored error during estimation: Active set is empty. Cannot estimate MSM.\n",
      "25-03-21 18:52:45 pyemma.msm.estimators.maximum_likelihood_msm.MaximumLikelihoodMSM[73] WARNING  Ignored error during estimation: Active set is empty. Cannot estimate MSM.\n",
      "25-03-21 18:53:22 pyemma.msm.estimators.maximum_likelihood_msm.MaximumLikelihoodMSM[89] WARNING  Ignored error during estimation: Active set is empty. Cannot estimate MSM.\n",
      "25-03-21 18:53:56 pyemma.msm.estimators.maximum_likelihood_msm.MaximumLikelihoodMSM[104] WARNING  Ignored error during estimation: Active set is empty. Cannot estimate MSM.\n",
      "25-03-21 18:53:57 pyemma.msm.estimators.maximum_likelihood_msm.MaximumLikelihoodMSM[105] WARNING  Ignored error during estimation: Active set is empty. Cannot estimate MSM.\n",
      "25-03-21 18:56:40 pyemma.msm.estimators.maximum_likelihood_msm.MaximumLikelihoodMSM[177] WARNING  Ignored error during estimation: Active set is empty. Cannot estimate MSM.\n",
      "25-03-21 18:57:53 pyemma.msm.estimators.maximum_likelihood_msm.MaximumLikelihoodMSM[209] WARNING  Ignored error during estimation: Active set is empty. Cannot estimate MSM.\n",
      "25-03-21 18:59:58 pyemma.msm.estimators.maximum_likelihood_msm.MaximumLikelihoodMSM[265] WARNING  Ignored error during estimation: Active set is empty. Cannot estimate MSM.\n",
      "25-03-21 19:06:02 pyemma.msm.estimators.maximum_likelihood_msm.MaximumLikelihoodMSM[401] WARNING  Ignored error during estimation: Active set is empty. Cannot estimate MSM.\n",
      "25-03-21 19:07:48 pyemma.msm.estimators.maximum_likelihood_msm.MaximumLikelihoodMSM[448] WARNING  Ignored error during estimation: Active set is empty. Cannot estimate MSM.\n",
      "25-03-21 19:07:49 pyemma.msm.estimators.maximum_likelihood_msm.MaximumLikelihoodMSM[449] WARNING  Ignored error during estimation: Active set is empty. Cannot estimate MSM.\n",
      "25-03-21 19:12:21 pyemma.msm.estimators.maximum_likelihood_msm.MaximumLikelihoodMSM[569] WARNING  Ignored error during estimation: Active set is empty. Cannot estimate MSM.\n",
      "25-03-21 19:12:58 pyemma.msm.estimators.maximum_likelihood_msm.MaximumLikelihoodMSM[585] WARNING  Ignored error during estimation: Active set is empty. Cannot estimate MSM.\n",
      "25-03-21 19:20:39 pyemma.msm.estimators.maximum_likelihood_msm.MaximumLikelihoodMSM[769] WARNING  Ignored error during estimation: Active set is empty. Cannot estimate MSM.\n"
     ]
    }
   ],
   "source": [
    "np.random.seed(984357)\n",
    "sim_data_lengths = np.zeros(n_bootstrap)\n",
    "\n",
    "for i in range(n_bootstrap):\n",
    "    rand_ix = np.random.choice(np.arange(n_trajs), p=probs, replace=True, size=n_trajs)\n",
    "    samp_trajs = [trajs[i] for i in rand_ix]\n",
    "    samp_xtrajs = [xtrajs[i] for i in rand_ix]\n",
    "    \n",
    "    sim_data_lengths[i] = np.sum([x.shape[0] for x in samp_trajs])\n",
    "    \n",
    "    dtrajs = get_dtrajs(samp_trajs, hps)\n",
    "    mod = pm.msm.estimate_markov_model(dtrajs, lag=lag)\n",
    "    pc = mod.pcca(n_sets)\n",
    "    \n",
    "    with warnings.catch_warnings():\n",
    "        warnings.simplefilter(\"ignore\")\n",
    "        ck = mod.cktest(nsets=n_sets)\n",
    "    \n",
    "    model = {'model': mod, 'ck_pred': ck.predictions, 'ck_est': ck.estimates}\n",
    "    pickle.dump(file=open(f'{out_dir}/model_bs_{i}.p', 'wb'), obj=model)\n",
    "    \n",
    "    state_order = np.argsort(pc.coarse_grained_stationary_probability)\n",
    "    for state_ix in state_order:\n",
    "        states = mod.metastable_sets[state_ix]\n",
    "        state_xtraj = get_state_xtraj(dtrajs, samp_xtrajs, states)\n",
    "        state_xtraj[::stride].save(f'{out_dir}/state_{state_ix}_bs_{i}.xtc')\n",
    "    \n"
   ]
  }
 ],
 "metadata": {
  "kernelspec": {
   "display_name": "Python 3 (ipykernel)",
   "language": "python",
   "name": "python3"
  },
  "language_info": {
   "codemirror_mode": {
    "name": "ipython",
    "version": 3
   },
   "file_extension": ".py",
   "mimetype": "text/x-python",
   "name": "python",
   "nbconvert_exporter": "python",
   "pygments_lexer": "ipython3",
   "version": "3.8.0"
  }
 },
 "nbformat": 4,
 "nbformat_minor": 5
}
