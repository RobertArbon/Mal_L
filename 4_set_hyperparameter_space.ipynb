{
 "cells": [
  {
   "cell_type": "markdown",
   "id": "afraid-resident",
   "metadata": {},
   "source": [
    "# Setting hyperparameter search space. \n",
    "\n",
    "This will create a dictionary with the limits for the hyperparameters search space. \n",
    "\n",
    "The pipeline will be (for each feature separately): \n",
    "\n",
    "1. VAMP with kinetic mapping scaling. HPs = {dim, lag}\n",
    "2. clustering with k-means. HPs = {n_clusters}"
   ]
  },
  {
   "cell_type": "code",
   "execution_count": 2,
   "id": "ordered-opportunity",
   "metadata": {},
   "outputs": [],
   "source": [
    "import numpy as np\n",
    "from glob import glob\n"
   ]
  },
  {
   "cell_type": "code",
   "execution_count": 8,
   "id": "circular-amsterdam",
   "metadata": {},
   "outputs": [],
   "source": [
    "paths = glob('transition_state/features/alpha/*.npy')\n",
    "trajs = [np.load(x) for x in paths]\n",
    "n_frames = np.concatenate(trajs).shape[0]"
   ]
  },
  {
   "cell_type": "code",
   "execution_count": 15,
   "id": "voluntary-welding",
   "metadata": {},
   "outputs": [
    {
     "data": {
      "text/plain": [
       "(10, 211)"
      ]
     },
     "execution_count": 15,
     "metadata": {},
     "output_type": "execute_result"
    }
   ],
   "source": [
    "min_n, max_n = 10, int(np.sqrt(n_frames))\n",
    "min_n, max_n"
   ]
  },
  {
   "cell_type": "code",
   "execution_count": 16,
   "id": "mature-frame",
   "metadata": {},
   "outputs": [
    {
     "data": {
      "text/plain": [
       "(1, 250)"
      ]
     },
     "execution_count": 16,
     "metadata": {},
     "output_type": "execute_result"
    }
   ],
   "source": [
    "lengths = [x.shape[0] for x in trajs]\n",
    "min_lag, max_lag = 1, int(np.min(lengths)/2)\n",
    "min_lag, max_lag"
   ]
  },
  {
   "cell_type": "code",
   "execution_count": 17,
   "id": "marked-impact",
   "metadata": {},
   "outputs": [],
   "source": [
    "min_dim, max_dim = 1, 10"
   ]
  },
  {
   "cell_type": "code",
   "execution_count": 18,
   "id": "supposed-cameroon",
   "metadata": {},
   "outputs": [
    {
     "data": {
      "text/plain": [
       "{'vamp': {'dim': [1, 10], 'lag': [1, 250]},\n",
       " 'cluster_kmeans': {'k': [10, 211], 'max_iter': 1000}}"
      ]
     },
     "execution_count": 18,
     "metadata": {},
     "output_type": "execute_result"
    }
   ],
   "source": [
    "hyperparameters = {'vamp': {'dim': [min_dim, max_dim], 'lag': [min_lag, max_lag]}, \n",
    "                  'cluster_kmeans': {'k': [min_n, max_n], 'max_iter': 1000}}\n",
    "\n",
    "hyperparameters"
   ]
  },
  {
   "cell_type": "code",
   "execution_count": 22,
   "id": "imported-asthma",
   "metadata": {},
   "outputs": [],
   "source": [
    "import pickle\n",
    "pickle.dump(file=open('common/hp_search_space.p', 'wb'), obj=hyperparameters)"
   ]
  }
 ],
 "metadata": {
  "kernelspec": {
   "display_name": "Python 3",
   "language": "python",
   "name": "python3"
  },
  "language_info": {
   "codemirror_mode": {
    "name": "ipython",
    "version": 3
   },
   "file_extension": ".py",
   "mimetype": "text/x-python",
   "name": "python",
   "nbconvert_exporter": "python",
   "pygments_lexer": "ipython3",
   "version": "3.8.0"
  }
 },
 "nbformat": 4,
 "nbformat_minor": 5
}
